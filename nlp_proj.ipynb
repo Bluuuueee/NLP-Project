{
 "cells": [
  {
   "cell_type": "code",
   "execution_count": 44,
   "id": "d846f877-4cf8-4c06-9e4c-887690d6c34a",
   "metadata": {},
   "outputs": [],
   "source": [
    "import pandas as pd\n",
    "import matplotlib.pyplot as plt\n",
    "%matplotlib inline\n",
    "\n",
    "import numpy as np"
   ]
  },
  {
   "cell_type": "code",
   "execution_count": 89,
   "id": "1e35dc9e-9f74-4a20-b539-dee48fc7023d",
   "metadata": {},
   "outputs": [
    {
     "data": {
      "text/html": [
       "<style>.container { width:95% !important; }</style>"
      ],
      "text/plain": [
       "<IPython.core.display.HTML object>"
      ]
     },
     "metadata": {},
     "output_type": "display_data"
    }
   ],
   "source": [
    "# Display Settings\n",
    "\n",
    "from IPython.display import display, HTML\n",
    "from IPython.core.interactiveshell import InteractiveShell\n",
    "\n",
    "display(HTML(\"<style>.container { width:95% !important; }</style>\"))\n",
    "pd.set_option(\"display.max_rows\", None)\n",
    "pd.set_option('max_colwidth', 600)\n",
    "\n",
    "InteractiveShell.ast_node_interactivity = \"all\""
   ]
  },
  {
   "cell_type": "code",
   "execution_count": 85,
   "id": "9bd33b35-b6e0-455e-aaa4-9065764d6506",
   "metadata": {},
   "outputs": [
    {
     "name": "stderr",
     "output_type": "stream",
     "text": [
      "/tmp/ipykernel_16/660439069.py:3: ParserWarning: Falling back to the 'python' engine because the 'c' engine does not support regex separators (separators > 1 char and different from '\\s+' are interpreted as regex); you can avoid this warning by specifying engine='python'.\n",
      "  df = pd.read_csv('events.txt', sep=' /// ', header=None)\n"
     ]
    },
    {
     "data": {
      "text/html": [
       "<div>\n",
       "<style scoped>\n",
       "    .dataframe tbody tr th:only-of-type {\n",
       "        vertical-align: middle;\n",
       "    }\n",
       "\n",
       "    .dataframe tbody tr th {\n",
       "        vertical-align: top;\n",
       "    }\n",
       "\n",
       "    .dataframe thead th {\n",
       "        text-align: right;\n",
       "    }\n",
       "</style>\n",
       "<table border=\"1\" class=\"dataframe\">\n",
       "  <thead>\n",
       "    <tr style=\"text-align: right;\">\n",
       "      <th></th>\n",
       "      <th>0</th>\n",
       "      <th>1</th>\n",
       "    </tr>\n",
       "  </thead>\n",
       "  <tbody>\n",
       "    <tr>\n",
       "      <th>0</th>\n",
       "      <td>Even as the secretary of homeland security was putting his people on high alert last month, a 30-foot Cuban patrol boat with four heavily armed men landed on American shores, utterly undetected by the Coast Guard Secretary Ridge now leads</td>\n",
       "      <td>a 30-foot Cuban patrol boat with four heavily armed men landed on American shores</td>\n",
       "    </tr>\n",
       "    <tr>\n",
       "      <th>1</th>\n",
       "      <td>He lost an election to a dead man</td>\n",
       "      <td>election to a dead man</td>\n",
       "    </tr>\n",
       "    <tr>\n",
       "      <th>2</th>\n",
       "      <td>Paul, as I understand your definition of a political -- of a professional politician based on that is somebody who is elected to public office</td>\n",
       "      <td>who is elected to public office</td>\n",
       "    </tr>\n",
       "    <tr>\n",
       "      <th>3</th>\n",
       "      <td>Hire professionals, Mr. President</td>\n",
       "      <td>Hire professionals</td>\n",
       "    </tr>\n",
       "    <tr>\n",
       "      <th>4</th>\n",
       "      <td>It's OK to put Democratic career politicians at the Pentagon and the Justice Department if they're Democrats but not if they're Republicans, is that right</td>\n",
       "      <td>put Democratic career politicians at the Pentagon and the Justice Department</td>\n",
       "    </tr>\n",
       "  </tbody>\n",
       "</table>\n",
       "</div>"
      ],
      "text/plain": [
       "                                                                                                                                                                                                                                                0   \n",
       "0  Even as the secretary of homeland security was putting his people on high alert last month, a 30-foot Cuban patrol boat with four heavily armed men landed on American shores, utterly undetected by the Coast Guard Secretary Ridge now leads  \\\n",
       "1                                                                                                                                                                                                               He lost an election to a dead man   \n",
       "2                                                                                                  Paul, as I understand your definition of a political -- of a professional politician based on that is somebody who is elected to public office   \n",
       "3                                                                                                                                                                                                               Hire professionals, Mr. President   \n",
       "4                                                                                      It's OK to put Democratic career politicians at the Pentagon and the Justice Department if they're Democrats but not if they're Republicans, is that right   \n",
       "\n",
       "                                                                                   1  \n",
       "0  a 30-foot Cuban patrol boat with four heavily armed men landed on American shores  \n",
       "1                                                             election to a dead man  \n",
       "2                                                    who is elected to public office  \n",
       "3                                                                 Hire professionals  \n",
       "4       put Democratic career politicians at the Pentagon and the Justice Department  "
      ]
     },
     "execution_count": 85,
     "metadata": {},
     "output_type": "execute_result"
    }
   ],
   "source": [
    "# Read in file\n",
    "test_file = open('events.txt')\n",
    "df = pd.read_csv('events.txt', sep=' /// ', header=None)\n",
    "df.head(5)"
   ]
  },
  {
   "cell_type": "code",
   "execution_count": 86,
   "id": "8bfd62f0-fac4-45d0-accb-178b7302dc17",
   "metadata": {},
   "outputs": [
    {
     "data": {
      "text/plain": [
       "(3341, 2)"
      ]
     },
     "execution_count": 86,
     "metadata": {},
     "output_type": "execute_result"
    }
   ],
   "source": [
    "# Set up new columns\n",
    "df.rename(columns={0: 'source_sentence', \n",
    "                   1: 'event'}, inplace=True, errors=\"raise\")\n",
    "df.shape\n",
    "df['new_sentence'] = df['event'].str.lower()"
   ]
  },
  {
   "cell_type": "code",
   "execution_count": 95,
   "id": "617ac85b-28d8-4cc9-845f-decd63cad682",
   "metadata": {},
   "outputs": [
    {
     "name": "stdout",
     "output_type": "stream",
     "text": [
      "fewest words:  1\n",
      "most words:  70\n"
     ]
    }
   ],
   "source": [
    "# Analyze event word count\n",
    "df['event_word_ct'] = df['event'].str.split().str.len()\n",
    "\n",
    "print('fewest words: ', df['event_word_ct'].min())\n",
    "print('most words: ', df['event_word_ct'].max())"
   ]
  },
  {
   "cell_type": "code",
   "execution_count": null,
   "id": "81156d47-3218-469c-ac2c-de9561ae3bd7",
   "metadata": {},
   "outputs": [],
   "source": []
  },
  {
   "cell_type": "code",
   "execution_count": 96,
   "id": "e662253b-c281-4fdc-9136-f400d78e78cc",
   "metadata": {},
   "outputs": [
    {
     "data": {
      "text/plain": [
       "<Figure size 2000x1000 with 0 Axes>"
      ]
     },
     "execution_count": 97,
     "metadata": {},
     "output_type": "execute_result"
    },
    {
     "data": {
      "text/plain": [
       "([<matplotlib.axis.XTick at 0x7fd6b5753940>,\n",
       "  <matplotlib.axis.XTick at 0x7fd6b5753910>,\n",
       "  <matplotlib.axis.XTick at 0x7fd6b5753400>,\n",
       "  <matplotlib.axis.XTick at 0x7fd6b5556160>,\n",
       "  <matplotlib.axis.XTick at 0x7fd6b564f760>,\n",
       "  <matplotlib.axis.XTick at 0x7fd6b564ff40>,\n",
       "  <matplotlib.axis.XTick at 0x7fd6b5658760>,\n",
       "  <matplotlib.axis.XTick at 0x7fd6b564fc70>,\n",
       "  <matplotlib.axis.XTick at 0x7fd6b5658be0>,\n",
       "  <matplotlib.axis.XTick at 0x7fd6b5661400>,\n",
       "  <matplotlib.axis.XTick at 0x7fd6b5661be0>,\n",
       "  <matplotlib.axis.XTick at 0x7fd6b5668400>,\n",
       "  <matplotlib.axis.XTick at 0x7fd6b5661670>,\n",
       "  <matplotlib.axis.XTick at 0x7fd6b564fca0>,\n",
       "  <matplotlib.axis.XTick at 0x7fd6b5668e20>,\n",
       "  <matplotlib.axis.XTick at 0x7fd6b5672640>,\n",
       "  <matplotlib.axis.XTick at 0x7fd6b5672e20>,\n",
       "  <matplotlib.axis.XTick at 0x7fd6b56729d0>,\n",
       "  <matplotlib.axis.XTick at 0x7fd6b5668c10>,\n",
       "  <matplotlib.axis.XTick at 0x7fd6b55fb880>,\n",
       "  <matplotlib.axis.XTick at 0x7fd6b55fbd90>,\n",
       "  <matplotlib.axis.XTick at 0x7fd6b5605880>,\n",
       "  <matplotlib.axis.XTick at 0x7fd6b56050a0>,\n",
       "  <matplotlib.axis.XTick at 0x7fd6b5605940>,\n",
       "  <matplotlib.axis.XTick at 0x7fd6b5668280>,\n",
       "  <matplotlib.axis.XTick at 0x7fd6b560da30>,\n",
       "  <matplotlib.axis.XTick at 0x7fd6b560d0a0>,\n",
       "  <matplotlib.axis.XTick at 0x7fd6b5617a30>,\n",
       "  <matplotlib.axis.XTick at 0x7fd6b560d3a0>,\n",
       "  <matplotlib.axis.XTick at 0x7fd6b5617820>,\n",
       "  <matplotlib.axis.XTick at 0x7fd6b5622400>,\n",
       "  <matplotlib.axis.XTick at 0x7fd6b5622be0>,\n",
       "  <matplotlib.axis.XTick at 0x7fd6b5629400>,\n",
       "  <matplotlib.axis.XTick at 0x7fd6b5622a60>,\n",
       "  <matplotlib.axis.XTick at 0x7fd6b56173d0>,\n",
       "  <matplotlib.axis.XTick at 0x7fd6b5629e20>,\n",
       "  <matplotlib.axis.XTick at 0x7fd6b5634640>,\n",
       "  <matplotlib.axis.XTick at 0x7fd6b5634e20>,\n",
       "  <matplotlib.axis.XTick at 0x7fd6b55bc640>,\n",
       "  <matplotlib.axis.XTick at 0x7fd6b5634ee0>,\n",
       "  <matplotlib.axis.XTick at 0x7fd6b55bc7f0>,\n",
       "  <matplotlib.axis.XTick at 0x7fd6b55bcfd0>,\n",
       "  <matplotlib.axis.XTick at 0x7fd6b55c67f0>,\n",
       "  <matplotlib.axis.XTick at 0x7fd6b55c6fd0>,\n",
       "  <matplotlib.axis.XTick at 0x7fd6b55c6370>,\n",
       "  <matplotlib.axis.XTick at 0x7fd6b5629670>,\n",
       "  <matplotlib.axis.XTick at 0x7fd6b55cd9a0>,\n",
       "  <matplotlib.axis.XTick at 0x7fd6b5634430>,\n",
       "  <matplotlib.axis.XTick at 0x7fd6b55d79a0>,\n",
       "  <matplotlib.axis.XTick at 0x7fd6b55d77f0>,\n",
       "  <matplotlib.axis.XTick at 0x7fd6b55d7a60>,\n",
       "  <matplotlib.axis.XTick at 0x7fd6b56299d0>,\n",
       "  <matplotlib.axis.XTick at 0x7fd6b55cdd00>,\n",
       "  <matplotlib.axis.XTick at 0x7fd6b55deac0>,\n",
       "  <matplotlib.axis.XTick at 0x7fd6b55ed2e0>,\n",
       "  <matplotlib.axis.XTick at 0x7fd6b5617be0>,\n",
       "  <matplotlib.axis.XTick at 0x7fd6b55d7040>,\n",
       "  <matplotlib.axis.XTick at 0x7fd6b55edc70>,\n",
       "  <matplotlib.axis.XTick at 0x7fd6b5579490>,\n",
       "  <matplotlib.axis.XTick at 0x7fd6b5579c70>,\n",
       "  <matplotlib.axis.XTick at 0x7fd6b5579550>,\n",
       "  <matplotlib.axis.XTick at 0x7fd6b5579d30>,\n",
       "  <matplotlib.axis.XTick at 0x7fd6b5580640>,\n",
       "  <matplotlib.axis.XTick at 0x7fd6b5580e20>,\n",
       "  <matplotlib.axis.XTick at 0x7fd6b558b640>,\n",
       "  <matplotlib.axis.XTick at 0x7fd6b55809d0>,\n",
       "  <matplotlib.axis.XTick at 0x7fd6b55ed700>,\n",
       "  <matplotlib.axis.XTick at 0x7fd6b558bd90>,\n",
       "  <matplotlib.axis.XTick at 0x7fd6b5596880>,\n",
       "  <matplotlib.axis.XTick at 0x7fd6b55960a0>],\n",
       " [Text(1.0, 0, '1'),\n",
       "  Text(2.0, 0, '2'),\n",
       "  Text(3.0, 0, '3'),\n",
       "  Text(4.0, 0, '4'),\n",
       "  Text(5.0, 0, '5'),\n",
       "  Text(6.0, 0, '6'),\n",
       "  Text(7.0, 0, '7'),\n",
       "  Text(8.0, 0, '8'),\n",
       "  Text(9.0, 0, '9'),\n",
       "  Text(10.0, 0, '10'),\n",
       "  Text(11.0, 0, '11'),\n",
       "  Text(12.0, 0, '12'),\n",
       "  Text(13.0, 0, '13'),\n",
       "  Text(14.0, 0, '14'),\n",
       "  Text(15.0, 0, '15'),\n",
       "  Text(16.0, 0, '16'),\n",
       "  Text(17.0, 0, '17'),\n",
       "  Text(18.0, 0, '18'),\n",
       "  Text(19.0, 0, '19'),\n",
       "  Text(20.0, 0, '20'),\n",
       "  Text(21.0, 0, '21'),\n",
       "  Text(22.0, 0, '22'),\n",
       "  Text(23.0, 0, '23'),\n",
       "  Text(24.0, 0, '24'),\n",
       "  Text(25.0, 0, '25'),\n",
       "  Text(26.0, 0, '26'),\n",
       "  Text(27.0, 0, '27'),\n",
       "  Text(28.0, 0, '28'),\n",
       "  Text(29.0, 0, '29'),\n",
       "  Text(30.0, 0, '30'),\n",
       "  Text(31.0, 0, '31'),\n",
       "  Text(32.0, 0, '32'),\n",
       "  Text(33.0, 0, '33'),\n",
       "  Text(34.0, 0, '34'),\n",
       "  Text(35.0, 0, '35'),\n",
       "  Text(36.0, 0, '36'),\n",
       "  Text(37.0, 0, '37'),\n",
       "  Text(38.0, 0, '38'),\n",
       "  Text(39.0, 0, '39'),\n",
       "  Text(40.0, 0, '40'),\n",
       "  Text(41.0, 0, '41'),\n",
       "  Text(42.0, 0, '42'),\n",
       "  Text(43.0, 0, '43'),\n",
       "  Text(44.0, 0, '44'),\n",
       "  Text(45.0, 0, '45'),\n",
       "  Text(46.0, 0, '46'),\n",
       "  Text(47.0, 0, '47'),\n",
       "  Text(48.0, 0, '48'),\n",
       "  Text(49.0, 0, '49'),\n",
       "  Text(50.0, 0, '50'),\n",
       "  Text(51.0, 0, '51'),\n",
       "  Text(52.0, 0, '52'),\n",
       "  Text(53.0, 0, '53'),\n",
       "  Text(54.0, 0, '54'),\n",
       "  Text(55.0, 0, '55'),\n",
       "  Text(56.0, 0, '56'),\n",
       "  Text(57.0, 0, '57'),\n",
       "  Text(58.0, 0, '58'),\n",
       "  Text(59.0, 0, '59'),\n",
       "  Text(60.0, 0, '60'),\n",
       "  Text(61.0, 0, '61'),\n",
       "  Text(62.0, 0, '62'),\n",
       "  Text(63.0, 0, '63'),\n",
       "  Text(64.0, 0, '64'),\n",
       "  Text(65.0, 0, '65'),\n",
       "  Text(66.0, 0, '66'),\n",
       "  Text(67.0, 0, '67'),\n",
       "  Text(68.0, 0, '68'),\n",
       "  Text(69.0, 0, '69'),\n",
       "  Text(70.0, 0, '70')])"
      ]
     },
     "execution_count": 97,
     "metadata": {},
     "output_type": "execute_result"
    },
    {
     "data": {
      "text/plain": [
       "Text(0.5, 0, 'Number of Words')"
      ]
     },
     "execution_count": 97,
     "metadata": {},
     "output_type": "execute_result"
    },
    {
     "data": {
      "text/plain": [
       "Text(0, 0.5, 'Count of Events')"
      ]
     },
     "execution_count": 97,
     "metadata": {},
     "output_type": "execute_result"
    },
    {
     "data": {
      "text/plain": [
       "[Text(0, 0, '331'),\n",
       " Text(0, 0, '139'),\n",
       " Text(0, 0, '207'),\n",
       " Text(0, 0, '206'),\n",
       " Text(0, 0, '216'),\n",
       " Text(0, 0, '178'),\n",
       " Text(0, 0, '215'),\n",
       " Text(0, 0, '176'),\n",
       " Text(0, 0, '176'),\n",
       " Text(0, 0, '156'),\n",
       " Text(0, 0, '143'),\n",
       " Text(0, 0, '130'),\n",
       " Text(0, 0, '120'),\n",
       " Text(0, 0, '108'),\n",
       " Text(0, 0, '113'),\n",
       " Text(0, 0, '86'),\n",
       " Text(0, 0, '84'),\n",
       " Text(0, 0, '74'),\n",
       " Text(0, 0, '54'),\n",
       " Text(0, 0, '54'),\n",
       " Text(0, 0, '45'),\n",
       " Text(0, 0, '52'),\n",
       " Text(0, 0, '41'),\n",
       " Text(0, 0, '33'),\n",
       " Text(0, 0, '31'),\n",
       " Text(0, 0, '26'),\n",
       " Text(0, 0, '24'),\n",
       " Text(0, 0, '12'),\n",
       " Text(0, 0, '14'),\n",
       " Text(0, 0, '15'),\n",
       " Text(0, 0, '16'),\n",
       " Text(0, 0, '3'),\n",
       " Text(0, 0, '8'),\n",
       " Text(0, 0, '6'),\n",
       " Text(0, 0, '6'),\n",
       " Text(0, 0, '15'),\n",
       " Text(0, 0, '5'),\n",
       " Text(0, 0, '5'),\n",
       " Text(0, 0, '2'),\n",
       " Text(0, 0, '0'),\n",
       " Text(0, 0, '5'),\n",
       " Text(0, 0, '2'),\n",
       " Text(0, 0, '1'),\n",
       " Text(0, 0, '0'),\n",
       " Text(0, 0, '1'),\n",
       " Text(0, 0, '1'),\n",
       " Text(0, 0, '0'),\n",
       " Text(0, 0, '0'),\n",
       " Text(0, 0, '1'),\n",
       " Text(0, 0, '1'),\n",
       " Text(0, 0, '0'),\n",
       " Text(0, 0, '1'),\n",
       " Text(0, 0, '1'),\n",
       " Text(0, 0, '0'),\n",
       " Text(0, 0, '0'),\n",
       " Text(0, 0, '0'),\n",
       " Text(0, 0, '0'),\n",
       " Text(0, 0, '0'),\n",
       " Text(0, 0, '0'),\n",
       " Text(0, 0, '0'),\n",
       " Text(0, 0, '0'),\n",
       " Text(0, 0, '0'),\n",
       " Text(0, 0, '0'),\n",
       " Text(0, 0, '0'),\n",
       " Text(0, 0, '0'),\n",
       " Text(0, 0, '0'),\n",
       " Text(0, 0, '0'),\n",
       " Text(0, 0, '1'),\n",
       " Text(0, 0, '0'),\n",
       " Text(0, 0, '1')]"
      ]
     },
     "execution_count": 97,
     "metadata": {},
     "output_type": "execute_result"
    },
    {
     "data": {
      "image/png": "[encoded data removed]",
      "text/plain": [
       "<Figure size 2000x1000 with 1 Axes>"
      ]
     },
     "metadata": {},
     "output_type": "display_data"
    }
   ],
   "source": [
    "# Plot word count\n",
    "\n",
    "InteractiveShell.ast_node_interactivity = 'last'\n",
    "plt.figure(figsize=(20,10))\n",
    "values, bins, bars = plt.hist(df['event_word_ct'], bins=70, edgecolor='white')\n",
    "x = df['event_word_ct']\n",
    "plt.xticks(np.arange(min(x), max(x)+1, 1.0))\n",
    "plt.xlabel(\"Number of Words\")\n",
    "plt.ylabel('Count of Events')\n",
    "plt.bar_label(bars, fontsize=10, color='navy')\n",
    "plt.margins(x=0.01, y=0.1)\n",
    "plt.show()"
   ]
  },
  {
   "cell_type": "code",
   "execution_count": 74,
   "id": "31f4f715-7ba6-49b2-ac02-a53c8a99d524",
   "metadata": {},
   "outputs": [
    {
     "data": {
      "text/html": [
       "<div>\n",
       "<style scoped>\n",
       "    .dataframe tbody tr th:only-of-type {\n",
       "        vertical-align: middle;\n",
       "    }\n",
       "\n",
       "    .dataframe tbody tr th {\n",
       "        vertical-align: top;\n",
       "    }\n",
       "\n",
       "    .dataframe thead th {\n",
       "        text-align: right;\n",
       "    }\n",
       "</style>\n",
       "<table border=\"1\" class=\"dataframe\">\n",
       "  <thead>\n",
       "    <tr style=\"text-align: right;\">\n",
       "      <th></th>\n",
       "      <th>source_sentence</th>\n",
       "      <th>event</th>\n",
       "      <th>new_sentence</th>\n",
       "      <th>event_word_ct</th>\n",
       "    </tr>\n",
       "  </thead>\n",
       "  <tbody>\n",
       "    <tr>\n",
       "      <th>134</th>\n",
       "      <td>One of the reasons that we like having you on, and as well as Mr. Rangel, is that, you know, this is war, as we were saying in the last segment</td>\n",
       "      <td>war</td>\n",
       "      <td>war</td>\n",
       "      <td>1</td>\n",
       "    </tr>\n",
       "    <tr>\n",
       "      <th>3193</th>\n",
       "      <td>Israeli and American officials say that the Palestinian president, Mahmoud Abbas, has told them that he, too, regards Hezbollah as a destructive force in the Middle East, one determined to undermine peace talks by supporting militant groups that attack Israelis</td>\n",
       "      <td>talks</td>\n",
       "      <td>talks</td>\n",
       "      <td>1</td>\n",
       "    </tr>\n",
       "    <tr>\n",
       "      <th>2018</th>\n",
       "      <td>The conduct of the trials was widely criticised internationally and the United States still lists Anwar as a political prisoner</td>\n",
       "      <td>trials</td>\n",
       "      <td>trials</td>\n",
       "      <td>1</td>\n",
       "    </tr>\n",
       "    <tr>\n",
       "      <th>628</th>\n",
       "      <td>Saba hasn't delivered yet</td>\n",
       "      <td>delivered</td>\n",
       "      <td>delivered</td>\n",
       "      <td>1</td>\n",
       "    </tr>\n",
       "    <tr>\n",
       "      <th>169</th>\n",
       "      <td>But I didn't know it was going to bother me as much as it did</td>\n",
       "      <td>it</td>\n",
       "      <td>it</td>\n",
       "      <td>1</td>\n",
       "    </tr>\n",
       "  </tbody>\n",
       "</table>\n",
       "</div>"
      ],
      "text/plain": [
       "                                                                                                                                                                                                                                                            source_sentence   \n",
       "134                                                                                                                         One of the reasons that we like having you on, and as well as Mr. Rangel, is that, you know, this is war, as we were saying in the last segment  \\\n",
       "3193  Israeli and American officials say that the Palestinian president, Mahmoud Abbas, has told them that he, too, regards Hezbollah as a destructive force in the Middle East, one determined to undermine peace talks by supporting militant groups that attack Israelis   \n",
       "2018                                                                                                                                        The conduct of the trials was widely criticised internationally and the United States still lists Anwar as a political prisoner   \n",
       "628                                                                                                                                                                                                                                               Saba hasn't delivered yet   \n",
       "169                                                                                                                                                                                                           But I didn't know it was going to bother me as much as it did   \n",
       "\n",
       "          event new_sentence  event_word_ct  \n",
       "134         war          war              1  \n",
       "3193      talks        talks              1  \n",
       "2018     trials       trials              1  \n",
       "628   delivered    delivered              1  \n",
       "169          it           it              1  "
      ]
     },
     "execution_count": 74,
     "metadata": {},
     "output_type": "execute_result"
    }
   ],
   "source": [
    "df.loc[df['event_word_ct']==1].sample(n=5)"
   ]
  },
  {
   "cell_type": "markdown",
   "id": "4486ab16-4340-4f97-a999-5e58be19d856",
   "metadata": {},
   "source": [
    "#### Word Rules Implemented"
   ]
  },
  {
   "cell_type": "code",
   "execution_count": null,
   "id": "3ccbe1d8-34a5-468d-9bc8-4e45859ff18f",
   "metadata": {},
   "outputs": [],
   "source": [
    "# If event = ["
   ]
  },
  {
   "cell_type": "code",
   "execution_count": 87,
   "id": "23bb66e9-f729-4179-843d-f4f7a48b3ca0",
   "metadata": {},
   "outputs": [
    {
     "data": {
      "text/html": [
       "<div>\n",
       "<style scoped>\n",
       "    .dataframe tbody tr th:only-of-type {\n",
       "        vertical-align: middle;\n",
       "    }\n",
       "\n",
       "    .dataframe tbody tr th {\n",
       "        vertical-align: top;\n",
       "    }\n",
       "\n",
       "    .dataframe thead th {\n",
       "        text-align: right;\n",
       "    }\n",
       "</style>\n",
       "<table border=\"1\" class=\"dataframe\">\n",
       "  <thead>\n",
       "    <tr style=\"text-align: right;\">\n",
       "      <th></th>\n",
       "      <th>source_sentence</th>\n",
       "      <th>event</th>\n",
       "      <th>new_sentence</th>\n",
       "    </tr>\n",
       "  </thead>\n",
       "  <tbody>\n",
       "    <tr>\n",
       "      <th>0</th>\n",
       "      <td>Even as the secretary of homeland security was putting his people on high alert last month, a 30-foot Cuban patrol boat with four heavily armed men landed on American shores, utterly undetected by the Coast Guard Secretary Ridge now leads</td>\n",
       "      <td>a 30-foot Cuban patrol boat with four heavily armed men landed on American shores</td>\n",
       "      <td>a 30-foot cuban patrol boat with four heavily armed men landed on american shores</td>\n",
       "    </tr>\n",
       "    <tr>\n",
       "      <th>1</th>\n",
       "      <td>He lost an election to a dead man</td>\n",
       "      <td>election to a dead man</td>\n",
       "      <td>election to a dead man</td>\n",
       "    </tr>\n",
       "    <tr>\n",
       "      <th>2</th>\n",
       "      <td>Paul, as I understand your definition of a political -- of a professional politician based on that is somebody who is elected to public office</td>\n",
       "      <td>who is elected to public office</td>\n",
       "      <td>who is elected to public office</td>\n",
       "    </tr>\n",
       "    <tr>\n",
       "      <th>3</th>\n",
       "      <td>Hire professionals, Mr. President</td>\n",
       "      <td>Hire professionals</td>\n",
       "      <td>hire professionals</td>\n",
       "    </tr>\n",
       "    <tr>\n",
       "      <th>4</th>\n",
       "      <td>It's OK to put Democratic career politicians at the Pentagon and the Justice Department if they're Democrats but not if they're Republicans, is that right</td>\n",
       "      <td>put Democratic career politicians at the Pentagon and the Justice Department</td>\n",
       "      <td>put democratic career politicians at the pentagon and the justice department</td>\n",
       "    </tr>\n",
       "  </tbody>\n",
       "</table>\n",
       "</div>"
      ],
      "text/plain": [
       "                                                                                                                                                                                                                                  source_sentence   \n",
       "0  Even as the secretary of homeland security was putting his people on high alert last month, a 30-foot Cuban patrol boat with four heavily armed men landed on American shores, utterly undetected by the Coast Guard Secretary Ridge now leads  \\\n",
       "1                                                                                                                                                                                                               He lost an election to a dead man   \n",
       "2                                                                                                  Paul, as I understand your definition of a political -- of a professional politician based on that is somebody who is elected to public office   \n",
       "3                                                                                                                                                                                                               Hire professionals, Mr. President   \n",
       "4                                                                                      It's OK to put Democratic career politicians at the Pentagon and the Justice Department if they're Democrats but not if they're Republicans, is that right   \n",
       "\n",
       "                                                                               event   \n",
       "0  a 30-foot Cuban patrol boat with four heavily armed men landed on American shores  \\\n",
       "1                                                             election to a dead man   \n",
       "2                                                    who is elected to public office   \n",
       "3                                                                 Hire professionals   \n",
       "4       put Democratic career politicians at the Pentagon and the Justice Department   \n",
       "\n",
       "                                                                        new_sentence  \n",
       "0  a 30-foot cuban patrol boat with four heavily armed men landed on american shores  \n",
       "1                                                             election to a dead man  \n",
       "2                                                    who is elected to public office  \n",
       "3                                                                 hire professionals  \n",
       "4       put democratic career politicians at the pentagon and the justice department  "
      ]
     },
     "execution_count": 87,
     "metadata": {},
     "output_type": "execute_result"
    }
   ],
   "source": [
    "df.head(5)"
   ]
  },
  {
   "cell_type": "code",
   "execution_count": 20,
   "id": "b387792e-6a76-46b5-8ad8-9fecfdeb9eae",
   "metadata": {},
   "outputs": [
    {
     "data": {
      "text/plain": [
       "Index([0, 1], dtype='int64')"
      ]
     },
     "execution_count": 20,
     "metadata": {},
     "output_type": "execute_result"
    }
   ],
   "source": [
    "df.columns"
   ]
  },
  {
   "cell_type": "code",
   "execution_count": 22,
   "id": "95a92069-51db-437e-9746-ba67a8b934c8",
   "metadata": {},
   "outputs": [
    {
     "data": {
      "text/plain": [
       "RangeIndex(start=0, stop=3341, step=1)"
      ]
     },
     "execution_count": 22,
     "metadata": {},
     "output_type": "execute_result"
    }
   ],
   "source": [
    "df.index"
   ]
  },
  {
   "cell_type": "code",
   "execution_count": 94,
   "id": "e9d6aae1-a87f-4c7e-9913-9affc25ace16",
   "metadata": {},
   "outputs": [
    {
     "ename": "KeyError",
     "evalue": "'event_word_ct'",
     "output_type": "error",
     "traceback": [
      "\u001b[0;31m---------------------------------------------------------------------------\u001b[0m",
      "\u001b[0;31mKeyError\u001b[0m                                  Traceback (most recent call last)",
      "File \u001b[0;32m~/.local/lib/python3.9/site-packages/pandas/core/indexes/base.py:3652\u001b[0m, in \u001b[0;36mIndex.get_loc\u001b[0;34m(self, key)\u001b[0m\n\u001b[1;32m   3651\u001b[0m \u001b[38;5;28;01mtry\u001b[39;00m:\n\u001b[0;32m-> 3652\u001b[0m     \u001b[38;5;28;01mreturn\u001b[39;00m \u001b[38;5;28;43mself\u001b[39;49m\u001b[38;5;241;43m.\u001b[39;49m\u001b[43m_engine\u001b[49m\u001b[38;5;241;43m.\u001b[39;49m\u001b[43mget_loc\u001b[49m\u001b[43m(\u001b[49m\u001b[43mcasted_key\u001b[49m\u001b[43m)\u001b[49m\n\u001b[1;32m   3653\u001b[0m \u001b[38;5;28;01mexcept\u001b[39;00m \u001b[38;5;167;01mKeyError\u001b[39;00m \u001b[38;5;28;01mas\u001b[39;00m err:\n",
      "File \u001b[0;32m~/.local/lib/python3.9/site-packages/pandas/_libs/index.pyx:147\u001b[0m, in \u001b[0;36mpandas._libs.index.IndexEngine.get_loc\u001b[0;34m()\u001b[0m\n",
      "File \u001b[0;32m~/.local/lib/python3.9/site-packages/pandas/_libs/index.pyx:176\u001b[0m, in \u001b[0;36mpandas._libs.index.IndexEngine.get_loc\u001b[0;34m()\u001b[0m\n",
      "File \u001b[0;32mpandas/_libs/hashtable_class_helper.pxi:7080\u001b[0m, in \u001b[0;36mpandas._libs.hashtable.PyObjectHashTable.get_item\u001b[0;34m()\u001b[0m\n",
      "File \u001b[0;32mpandas/_libs/hashtable_class_helper.pxi:7088\u001b[0m, in \u001b[0;36mpandas._libs.hashtable.PyObjectHashTable.get_item\u001b[0;34m()\u001b[0m\n",
      "\u001b[0;31mKeyError\u001b[0m: 'event_word_ct'",
      "\nThe above exception was the direct cause of the following exception:\n",
      "\u001b[0;31mKeyError\u001b[0m                                  Traceback (most recent call last)",
      "Input \u001b[0;32mIn [94]\u001b[0m, in \u001b[0;36m<cell line: 1>\u001b[0;34m()\u001b[0m\n\u001b[0;32m----> 1\u001b[0m df2 \u001b[38;5;241m=\u001b[39m df\u001b[38;5;241m.\u001b[39mloc[\u001b[43mdf\u001b[49m\u001b[43m[\u001b[49m\u001b[38;5;124;43m'\u001b[39;49m\u001b[38;5;124;43mevent_word_ct\u001b[39;49m\u001b[38;5;124;43m'\u001b[39;49m\u001b[43m]\u001b[49m\u001b[38;5;241m==\u001b[39m\u001b[38;5;241m1\u001b[39m]\n\u001b[1;32m      2\u001b[0m df2[\u001b[38;5;124m'\u001b[39m\u001b[38;5;124mevent\u001b[39m\u001b[38;5;124m'\u001b[39m]\u001b[38;5;241m.\u001b[39mvalue_counts()\n",
      "File \u001b[0;32m~/.local/lib/python3.9/site-packages/pandas/core/frame.py:3761\u001b[0m, in \u001b[0;36mDataFrame.__getitem__\u001b[0;34m(self, key)\u001b[0m\n\u001b[1;32m   3759\u001b[0m \u001b[38;5;28;01mif\u001b[39;00m \u001b[38;5;28mself\u001b[39m\u001b[38;5;241m.\u001b[39mcolumns\u001b[38;5;241m.\u001b[39mnlevels \u001b[38;5;241m>\u001b[39m \u001b[38;5;241m1\u001b[39m:\n\u001b[1;32m   3760\u001b[0m     \u001b[38;5;28;01mreturn\u001b[39;00m \u001b[38;5;28mself\u001b[39m\u001b[38;5;241m.\u001b[39m_getitem_multilevel(key)\n\u001b[0;32m-> 3761\u001b[0m indexer \u001b[38;5;241m=\u001b[39m \u001b[38;5;28;43mself\u001b[39;49m\u001b[38;5;241;43m.\u001b[39;49m\u001b[43mcolumns\u001b[49m\u001b[38;5;241;43m.\u001b[39;49m\u001b[43mget_loc\u001b[49m\u001b[43m(\u001b[49m\u001b[43mkey\u001b[49m\u001b[43m)\u001b[49m\n\u001b[1;32m   3762\u001b[0m \u001b[38;5;28;01mif\u001b[39;00m is_integer(indexer):\n\u001b[1;32m   3763\u001b[0m     indexer \u001b[38;5;241m=\u001b[39m [indexer]\n",
      "File \u001b[0;32m~/.local/lib/python3.9/site-packages/pandas/core/indexes/base.py:3654\u001b[0m, in \u001b[0;36mIndex.get_loc\u001b[0;34m(self, key)\u001b[0m\n\u001b[1;32m   3652\u001b[0m     \u001b[38;5;28;01mreturn\u001b[39;00m \u001b[38;5;28mself\u001b[39m\u001b[38;5;241m.\u001b[39m_engine\u001b[38;5;241m.\u001b[39mget_loc(casted_key)\n\u001b[1;32m   3653\u001b[0m \u001b[38;5;28;01mexcept\u001b[39;00m \u001b[38;5;167;01mKeyError\u001b[39;00m \u001b[38;5;28;01mas\u001b[39;00m err:\n\u001b[0;32m-> 3654\u001b[0m     \u001b[38;5;28;01mraise\u001b[39;00m \u001b[38;5;167;01mKeyError\u001b[39;00m(key) \u001b[38;5;28;01mfrom\u001b[39;00m \u001b[38;5;21;01merr\u001b[39;00m\n\u001b[1;32m   3655\u001b[0m \u001b[38;5;28;01mexcept\u001b[39;00m \u001b[38;5;167;01mTypeError\u001b[39;00m:\n\u001b[1;32m   3656\u001b[0m     \u001b[38;5;66;03m# If we have a listlike key, _check_indexing_error will raise\u001b[39;00m\n\u001b[1;32m   3657\u001b[0m     \u001b[38;5;66;03m#  InvalidIndexError. Otherwise we fall through and re-raise\u001b[39;00m\n\u001b[1;32m   3658\u001b[0m     \u001b[38;5;66;03m#  the TypeError.\u001b[39;00m\n\u001b[1;32m   3659\u001b[0m     \u001b[38;5;28mself\u001b[39m\u001b[38;5;241m.\u001b[39m_check_indexing_error(key)\n",
      "\u001b[0;31mKeyError\u001b[0m: 'event_word_ct'"
     ]
    }
   ],
   "source": [
    "df2 = df.loc[df['event_word_ct']==1]\n",
    "df2['event'].value_counts()"
   ]
  },
  {
   "cell_type": "code",
   "execution_count": null,
   "id": "0f3ec931-832e-417e-b455-a69ae58466f8",
   "metadata": {},
   "outputs": [],
   "source": []
  },
  {
   "cell_type": "code",
   "execution_count": null,
   "id": "7eb18949-d5d3-4c17-9e01-3dd2eef2e3e4",
   "metadata": {},
   "outputs": [],
   "source": []
  },
  {
   "cell_type": "code",
   "execution_count": null,
   "id": "e8cb660d-2049-40a3-b1f3-489f9efab2a2",
   "metadata": {},
   "outputs": [],
   "source": []
  }
 ],
 "metadata": {
  "kernelspec": {
   "display_name": "Python 3 (ipykernel)",
   "language": "python",
   "name": "python3"
  },
  "language_info": {
   "codemirror_mode": {
    "name": "ipython",
    "version": 3
   },
   "file_extension": ".py",
   "mimetype": "text/x-python",
   "name": "python",
   "nbconvert_exporter": "python",
   "pygments_lexer": "ipython3",
   "version": "3.9.7"
  }
 },
 "nbformat": 4,
 "nbformat_minor": 5
}
